{
  "nbformat": 4,
  "nbformat_minor": 0,
  "metadata": {
    "colab": {
      "name": "Hangman_Game.ipynb",
      "provenance": [],
      "collapsed_sections": [
        "DztFV38zjlmr"
      ],
      "authorship_tag": "ABX9TyMwnoqmdLZ6xWsTMwC26f9b",
      "include_colab_link": true
    },
    "kernelspec": {
      "display_name": "Python 3",
      "name": "python3"
    },
    "language_info": {
      "name": "python"
    }
  },
  "cells": [
    {
      "cell_type": "markdown",
      "metadata": {
        "id": "view-in-github",
        "colab_type": "text"
      },
      "source": [
        "<a href=\"https://colab.research.google.com/github/WigunaKurniawan/Latihan-Python-Developer/blob/main/Hangman_Game.ipynb\" target=\"_parent\"><img src=\"https://colab.research.google.com/assets/colab-badge.svg\" alt=\"Open In Colab\"/></a>"
      ]
    },
    {
      "cell_type": "markdown",
      "metadata": {
        "id": "5fCEDCU_qrC0"
      },
      "source": [
        "<p><img alt=\"Wiguna Kurniawan\" height=\"300px\" src=\"https://drive.google.com/uc?id=19LmqXSPfeAN6d22d94SSkNIaQY0O7Ri4\" align=\"left\" hspace=\"50px\" vspace=\"50px\"></p>\n",
        "\n",
        "\n",
        "<h1><strong>WIGUNA KURNIAWAN</strong></h1>\n",
        "\n",
        "\" Python Developer in AI/Deep Neural Network, Data & Machine learning Engineering, Website & Software Development\"\n",
        "\n",
        "- <strong>Username</strong> : Wigunakurniawan\n",
        "\n",
        "- <strong>email</strong>: wiguna_kurniawan@ymail.com\n",
        "\n",
        "- <strong>Kota Domisili</strong>: Depok, Jawa Barat\n",
        "\n",
        "- <strong> Pendidikan Terakhir</strong>: S1 Jurusan Fisika"
      ]
    },
    {
      "cell_type": "markdown",
      "metadata": {
        "id": "lNuvaPRRjcxu"
      },
      "source": [
        "\n",
        "# **PERMAINAN HANGMAN DALAM PYTHON**\n",
        "\n",
        "---\n",
        "\n",
        "\n"
      ]
    },
    {
      "cell_type": "markdown",
      "metadata": {
        "id": "DztFV38zjlmr"
      },
      "source": [
        "## **PENGANTAR**\n",
        "\n",
        "#### Hangman merupakan permainan klasik yang melibatkan dua orang, dimana satu berperan untuk menebak sebuah kata dan yang satu berperan untuk memikirkan sebuah kata dan menggunakan kertas serta alat tulis. Apabila kata yang ditebak benar maka akan ditulis di tempat kemunculannya kata, namun apabila kata yang ditebak salah maka ditulis sebagai refensi dan garis digambar pada gambar tiang gantungan. Permainan selesai jika semua kata benar atau tergambar orang tongkat bergantung.\n",
        "\n",
        "#### Tujuan dari melakkukan proyek ini adalah untuk mengimplementasikan bahasa pemograman python dalam pembuatan permainan hangman sederhana. Proyek ini hanya menggunakan pustaka modul \"random\" dan \"time\" serta menggunakan perulangan dan membangun fungsi python.\n",
        "\n",
        "#### Proyek ini membutuhakn pengetahuan tentang bahasa pemograman python. Pengetahuan tersebut berupa mendefinisikan dan pengaturan untuk perulangan for/while. Fungsi yang akan digunakan berupa argumen yang mendefinisikan dalam global scope yang selanjutnya akan digunakan kembali lebih jauh pada fungsi lain untuk meningkatkan kualitas permainan. Global scope ini juga bisa digunakan untuk memberikan langkah-langkah berbeda ketika sesuai kebutuhan hingga kondisi if/while sesuai.\n",
        "\n",
        "\n"
      ]
    },
    {
      "cell_type": "markdown",
      "metadata": {
        "id": "9mgPjtamnH5W"
      },
      "source": [
        "## STRUKTUR PROYEK HANGMAN"
      ]
    },
    {
      "cell_type": "markdown",
      "metadata": {
        "id": "utEJDQEBrdu4"
      },
      "source": [
        "A. Import pustaka modul \"random\" dan \"time\""
      ]
    },
    {
      "cell_type": "code",
      "metadata": {
        "id": "Hw5n0rJAqsWq"
      },
      "source": [
        "import random\n",
        "import time\n",
        "\n",
        "#Tmapilan awal game\n",
        "print(\"\\nSelamat Datang to Hangman Game oleh Wiguna Kurniawan\\n\")\n",
        "name = input(\"Maasukkan Nama Anda: \")\n",
        "print(\"Hallo\" + name + \"! Semoga Berhasil\")\n",
        "time.sleep(2)\n",
        "print(\"Permainan agar segera dimulai! \\n Ayo kita mulai\")\n",
        "time.sleep(3)"
      ],
      "execution_count": null,
      "outputs": []
    },
    {
      "cell_type": "markdown",
      "metadata": {
        "id": "Lg_rma62uNfs"
      },
      "source": [
        "B. Mendefinisikan fungsi utama"
      ]
    },
    {
      "cell_type": "code",
      "metadata": {
        "id": "iE5wNlr3uVI-"
      },
      "source": [
        "def main():\n",
        "    global count\n",
        "    global display\n",
        "    global word\n",
        "    global already_guessed\n",
        "    global length\n",
        "    global play_game\n",
        "    word_to_guess = [\"wiguna\",\"kurniawan\",\"suka\",\"film\",\"korea\",\"keren\",\"bagus\",\"romantis\",\"horror\",\"sedih\"]\n",
        "    word = random.choice(word_to_guess)\n",
        "    length = len(word)\n",
        "    count = 0\n",
        "    display = '_' * length\n",
        "    already_guessed = []\n",
        "    play_game = \"\""
      ],
      "execution_count": 3,
      "outputs": []
    },
    {
      "cell_type": "markdown",
      "metadata": {
        "id": "x2DZYs7WwFMx"
      },
      "source": [
        "C. Mengembangkan sebuah perulangan untuk mengeksekusi game lagi"
      ]
    },
    {
      "cell_type": "code",
      "metadata": {
        "id": "WWZKjfvIwTz1"
      },
      "source": [
        "def play_loop():\n",
        "    global play_game\n",
        "    play_game = input(\"Mau main lagi? y = yes, n = no \\n\")\n",
        "    while play_game not in [\"y\",\"n\", \"Y\",\"N\"]:\n",
        "        play_game = input(\"Do you want to play again? y = yes, n = no \\n\")\n",
        "    if play_game == \"y\":\n",
        "      main()\n",
        "    elif play_game == \"n\":\n",
        "        print(\"Makasih ya dah main! Maen lagi nyo!\")\n",
        "        exit()"
      ],
      "execution_count": 4,
      "outputs": []
    },
    {
      "cell_type": "markdown",
      "metadata": {
        "id": "MEqSeblA1IbC"
      },
      "source": [
        "D. kondisi insialiasai untuk game hangman dan program keseluruhan hangman yang dikombinasikan"
      ]
    },
    {
      "cell_type": "code",
      "metadata": {
        "id": "2p2MYLvO19U3"
      },
      "source": [
        "def hangman():\n",
        "    global count\n",
        "    global display\n",
        "    global word\n",
        "    global already_guessed\n",
        "    global play_game\n",
        "    limit = 5\n",
        "    guess = input(\"ini adalah kata Hangman: \" + display + \"Masukin tebakan Anda: \\n\")\n",
        "    guess = guess.strip()\n",
        "    if len(guess.strip()) == 0 or len(guess.strip()) >=2 or guess <= \"9\":\n",
        "      print(\"inputnya salah, pake huruf ya\\n\")\n",
        "      hangman()\n",
        "    elif guess in word:\n",
        "        already_guessed.extend([guess])\n",
        "        index = word.find(guess)\n",
        "        word = word[:index] + \"_\" + word[index + 1:]\n",
        "        display = display[:index] + guess + display[index + 1:]\n",
        "        print(display + \"\\n\")\n",
        "\n",
        "    elif guess in already_guessed:\n",
        "        print(\"hmm..coba deh huruf lain, semangat!.\\n\")\n",
        "\n",
        "    else:\n",
        "        count += 1\n",
        "\n",
        "        if count == 1:\n",
        "            time.sleep(1)\n",
        "            print(\"   _____ \\n\"\n",
        "                  \"  |      \\n\"\n",
        "                  \"  |      \\n\"\n",
        "                  \"  |      \\n\"\n",
        "                  \"  |      \\n\"\n",
        "                  \"  |      \\n\"\n",
        "                  \"  |      \\n\"\n",
        "                  \"__|__\\n\")\n",
        "            print(\"Wrong guess. \" + str(limit - count) + \" guesses remaining\\n\")\n",
        "\n",
        "        elif count == 2:\n",
        "            time.sleep(1)\n",
        "            print(\"   _____ \\n\"\n",
        "                  \"  |     | \\n\"\n",
        "                  \"  |     |\\n\"\n",
        "                  \"  |      \\n\"\n",
        "                  \"  |      \\n\"\n",
        "                  \"  |      \\n\"\n",
        "                  \"  |      \\n\"\n",
        "                  \"__|__\\n\")\n",
        "            print(\"Wrong guess. \" + str(limit - count) + \" guesses remaining\\n\")\n",
        "\n",
        "        elif count == 3:\n",
        "           time.sleep(1)\n",
        "           print(\"   _____ \\n\"\n",
        "                 \"  |     | \\n\"\n",
        "                 \"  |     |\\n\"\n",
        "                 \"  |     | \\n\"\n",
        "                 \"  |      \\n\"\n",
        "                 \"  |      \\n\"\n",
        "                 \"  |      \\n\"\n",
        "                 \"__|__\\n\")\n",
        "           print(\"Wrong guess. \" + str(limit - count) + \" guesses remaining\\n\")\n",
        "\n",
        "        elif count == 4:\n",
        "            time.sleep(1)\n",
        "            print(\"   _____ \\n\"\n",
        "                  \"  |     | \\n\"\n",
        "                  \"  |     |\\n\"\n",
        "                  \"  |     | \\n\"\n",
        "                  \"  |     O \\n\"\n",
        "                  \"  |      \\n\"\n",
        "                  \"  |      \\n\"\n",
        "                  \"__|__\\n\")\n",
        "            print(\"Wrong guess. \" + str(limit - count) + \" last guess remaining\\n\")\n",
        "\n",
        "        elif count == 5:\n",
        "            time.sleep(1)\n",
        "            print(\"   _____ \\n\"\n",
        "                  \"  |     | \\n\"\n",
        "                  \"  |     |\\n\"\n",
        "                  \"  |     | \\n\"\n",
        "                  \"  |     O \\n\"\n",
        "                  \"  |    /|\\ \\n\"\n",
        "                  \"  |    / \\ \\n\"\n",
        "                  \"__|__\\n\")\n",
        "            print(\"Wrong guess. You are hanged!!!\\n\")\n",
        "            print(\"The word was:\",already_guessed,word)\n",
        "            play_loop()\n",
        "\n",
        "    if word == '_' * length:\n",
        "        print(\"Congrats! You have guessed the word correctly!\")\n",
        "        play_loop()\n",
        "\n",
        "    elif count != limit:\n",
        "        hangman()\n",
        "\n",
        "main()\n",
        "\n",
        "hangman()"
      ],
      "execution_count": null,
      "outputs": []
    },
    {
      "cell_type": "markdown",
      "metadata": {
        "id": "irWQJefzbaNF"
      },
      "source": [
        "# <strong>**REFERENSI**</strong>\n",
        "\n",
        "\n",
        "\n",
        "\n",
        "\n",
        "* https://data-flair.training/blogs/hangman-game-python-code/\n",
        "* https://www.babla.co.id/permainan/hangman\n",
        "\n",
        "\n",
        "\n",
        "\n",
        "\n",
        "\n",
        "\n",
        "\n",
        "\n",
        "\n",
        "\n",
        "\n",
        "\n",
        "\n",
        "\n",
        "\n",
        "\n",
        "\n",
        "\n",
        "\n",
        "\n"
      ]
    }
  ]
}